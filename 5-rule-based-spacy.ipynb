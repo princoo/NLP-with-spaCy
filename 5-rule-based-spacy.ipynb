{
 "cells": [
  {
   "cell_type": "code",
   "execution_count": 2,
   "metadata": {},
   "outputs": [],
   "source": [
    "import spacy"
   ]
  },
  {
   "cell_type": "code",
   "execution_count": 3,
   "metadata": {},
   "outputs": [],
   "source": [
    "nlp = spacy.load('en_core_web_sm')\n",
    "text = \"West Chestertenfieldville was referenced in Mr. Deeds.\""
   ]
  },
  {
   "cell_type": "code",
   "execution_count": 4,
   "metadata": {},
   "outputs": [],
   "source": [
    "doc = nlp(text)"
   ]
  },
  {
   "cell_type": "markdown",
   "metadata": {},
   "source": [
    "ENTITY RULLER"
   ]
  },
  {
   "cell_type": "code",
   "execution_count": 8,
   "metadata": {},
   "outputs": [
    {
     "name": "stdout",
     "output_type": "stream",
     "text": [
      "West Chestertenfieldville GPE\n",
      "Deeds PERSON\n"
     ]
    }
   ],
   "source": [
    "#  in the output you can see that deeds instead of being a film\n",
    "#  in which the text meant \n",
    "#  but it has been labeled as a person \n",
    "for ent in doc.ents:\n",
    "    print(ent.text, ent.label_)\n"
   ]
  },
  {
   "cell_type": "code",
   "execution_count": 9,
   "metadata": {},
   "outputs": [],
   "source": [
    "#  our goal is then to fix this using ruler\n",
    "\n",
    "#  we first add the pipe to the pipeline\n",
    "\n",
    "ruler= nlp.add_pipe('entity_ruler')"
   ]
  },
  {
   "cell_type": "code",
   "execution_count": null,
   "metadata": {},
   "outputs": [],
   "source": [
    "nlp.analyze_pipes()"
   ]
  },
  {
   "cell_type": "code",
   "execution_count": 30,
   "metadata": {},
   "outputs": [
    {
     "name": "stdout",
     "output_type": "stream",
     "text": [
      "West Chestertenfieldville GPE\n",
      "Deeds PERSON\n"
     ]
    }
   ],
   "source": [
    "#  now we create a pattern\n",
    "#  patterns are the things that the spacy model is going to look for\n",
    "#  and a label that it will assign them when it meets them\n",
    "\n",
    "patterns= [\n",
    "    {'label':'FILM','pattern':'Mr. Deeds'}\n",
    "]\n",
    "ruler.add_patterns(patterns)\n",
    "\n",
    "doc2 = nlp(text)\n",
    "\n",
    "for ent in doc2.ents:\n",
    "    print(ent.text, ent.label_)\n",
    "\n",
    "# if you see the output you will see that nothing has changed  \n",
    "#  an thats bcz on how the pipes are aligned \n",
    "#  our entity pipe should go above ner pipe\n",
    "#  or have the ability to overwrite the ner outputs\n"
   ]
  },
  {
   "cell_type": "markdown",
   "metadata": {},
   "source": [
    "lets do it a different way"
   ]
  },
  {
   "cell_type": "code",
   "execution_count": 31,
   "metadata": {},
   "outputs": [],
   "source": [
    "nlp2 = spacy.load('en_core_web_sm')\n",
    "# down here we pass another argument (before/after)\n",
    "ruler = nlp2.add_pipe('entity_ruler', before='ner')\n",
    "ruler.add_patterns(patterns)"
   ]
  },
  {
   "cell_type": "code",
   "execution_count": 32,
   "metadata": {},
   "outputs": [
    {
     "name": "stdout",
     "output_type": "stream",
     "text": [
      "West Chestertenfieldville GPE\n",
      "Mr. Deeds FILM\n"
     ]
    }
   ],
   "source": [
    "doc = nlp2(text)\n",
    "for ent in doc.ents:\n",
    "    print(ent.text, ent.label_)\n",
    "#  now you will see the output it will change the label to FILM"
   ]
  },
  {
   "cell_type": "markdown",
   "metadata": {},
   "source": [
    "but this will be another problem bcz Mr. Deed at some point it may mean a preson and this problem is what we call\n",
    "\n",
    "toponym resolution: things that can have multiple labels that are dependent upon the context\n",
    "\n",
    "in this scenario you can apply the ML model to analyse"
   ]
  }
 ],
 "metadata": {
  "kernelspec": {
   "display_name": "env",
   "language": "python",
   "name": "python3"
  },
  "language_info": {
   "codemirror_mode": {
    "name": "ipython",
    "version": 3
   },
   "file_extension": ".py",
   "mimetype": "text/x-python",
   "name": "python",
   "nbconvert_exporter": "python",
   "pygments_lexer": "ipython3",
   "version": "3.11.3"
  }
 },
 "nbformat": 4,
 "nbformat_minor": 2
}
